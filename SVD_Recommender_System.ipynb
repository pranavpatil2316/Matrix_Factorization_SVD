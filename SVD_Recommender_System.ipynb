{
  "cells": [
    {
      "cell_type": "markdown",
      "id": "eba24e7f",
      "metadata": {
        "id": "eba24e7f"
      },
      "source": [
        "# 📊 Matrix Factorization using SVD\n",
        "\n",
        "**Objective**: Build a recommender system using Singular Value Decomposition (SVD) and explore dimensionality reduction for improving performance."
      ]
    },
    {
      "cell_type": "code",
      "metadata": {
        "colab": {
          "base_uri": "https://localhost:8080/"
        },
        "id": "6ec0793b",
        "outputId": "8e597d57-e1f4-4a53-accc-9305128095dc"
      },
      "source": [
        "%pip install surprise"
      ],
      "id": "6ec0793b",
      "execution_count": 7,
      "outputs": [
        {
          "output_type": "stream",
          "name": "stdout",
          "text": [
            "Requirement already satisfied: surprise in /usr/local/lib/python3.12/dist-packages (0.1)\n",
            "Requirement already satisfied: scikit-surprise in /usr/local/lib/python3.12/dist-packages (from surprise) (1.1.4)\n",
            "Requirement already satisfied: joblib>=1.2.0 in /usr/local/lib/python3.12/dist-packages (from scikit-surprise->surprise) (1.5.2)\n",
            "Requirement already satisfied: numpy>=1.19.5 in /usr/local/lib/python3.12/dist-packages (from scikit-surprise->surprise) (2.0.2)\n",
            "Requirement already satisfied: scipy>=1.6.0 in /usr/local/lib/python3.12/dist-packages (from scikit-surprise->surprise) (1.16.1)\n"
          ]
        }
      ]
    },
    {
      "cell_type": "code",
      "metadata": {
        "colab": {
          "base_uri": "https://localhost:8080/",
          "height": 391
        },
        "id": "5457a44c",
        "outputId": "96a162fe-138e-40ea-9f4b-fd0668ba580c"
      },
      "source": [
        "%pip install \"numpy<2\""
      ],
      "id": "5457a44c",
      "execution_count": 10,
      "outputs": [
        {
          "output_type": "stream",
          "name": "stdout",
          "text": [
            "Collecting numpy<2\n",
            "  Downloading numpy-1.26.4-cp312-cp312-manylinux_2_17_x86_64.manylinux2014_x86_64.whl.metadata (61 kB)\n",
            "\u001b[?25l     \u001b[90m━━━━━━━━━━━━━━━━━━━━━━━━━━━━━━━━━━━━━━━━\u001b[0m \u001b[32m0.0/61.0 kB\u001b[0m \u001b[31m?\u001b[0m eta \u001b[36m-:--:--\u001b[0m\r\u001b[2K     \u001b[90m━━━━━━━━━━━━━━━━━━━━━━━━━━━━━━━━━━━━━━━━\u001b[0m \u001b[32m61.0/61.0 kB\u001b[0m \u001b[31m2.9 MB/s\u001b[0m eta \u001b[36m0:00:00\u001b[0m\n",
            "\u001b[?25hDownloading numpy-1.26.4-cp312-cp312-manylinux_2_17_x86_64.manylinux2014_x86_64.whl (18.0 MB)\n",
            "\u001b[2K   \u001b[90m━━━━━━━━━━━━━━━━━━━━━━━━━━━━━━━━━━━━━━━━\u001b[0m \u001b[32m18.0/18.0 MB\u001b[0m \u001b[31m90.3 MB/s\u001b[0m eta \u001b[36m0:00:00\u001b[0m\n",
            "\u001b[?25hInstalling collected packages: numpy\n",
            "  Attempting uninstall: numpy\n",
            "    Found existing installation: numpy 2.0.2\n",
            "    Uninstalling numpy-2.0.2:\n",
            "      Successfully uninstalled numpy-2.0.2\n",
            "\u001b[31mERROR: pip's dependency resolver does not currently take into account all the packages that are installed. This behaviour is the source of the following dependency conflicts.\n",
            "opencv-python-headless 4.12.0.88 requires numpy<2.3.0,>=2; python_version >= \"3.9\", but you have numpy 1.26.4 which is incompatible.\n",
            "opencv-python 4.12.0.88 requires numpy<2.3.0,>=2; python_version >= \"3.9\", but you have numpy 1.26.4 which is incompatible.\n",
            "opencv-contrib-python 4.12.0.88 requires numpy<2.3.0,>=2; python_version >= \"3.9\", but you have numpy 1.26.4 which is incompatible.\n",
            "thinc 8.3.6 requires numpy<3.0.0,>=2.0.0, but you have numpy 1.26.4 which is incompatible.\u001b[0m\u001b[31m\n",
            "\u001b[0mSuccessfully installed numpy-1.26.4\n"
          ]
        },
        {
          "output_type": "display_data",
          "data": {
            "application/vnd.colab-display-data+json": {
              "pip_warning": {
                "packages": [
                  "numpy"
                ]
              },
              "id": "5cf8df09171f41088812f19c256502c3"
            }
          },
          "metadata": {}
        }
      ]
    },
    {
      "cell_type": "code",
      "execution_count": 1,
      "id": "52928c0a",
      "metadata": {
        "id": "52928c0a"
      },
      "outputs": [],
      "source": [
        "# 📦 Import Required Libraries\n",
        "import pandas as pd\n",
        "import numpy as np\n",
        "from surprise import Dataset, Reader, SVD\n",
        "from surprise.model_selection import cross_validate, train_test_split\n",
        "from surprise import accuracy\n",
        "import matplotlib.pyplot as plt\n",
        "import seaborn as sns"
      ]
    },
    {
      "cell_type": "code",
      "execution_count": 2,
      "id": "e4b68f67",
      "metadata": {
        "colab": {
          "base_uri": "https://localhost:8080/"
        },
        "id": "e4b68f67",
        "outputId": "9f25cb93-8d13-4e6d-d356-1c677fc6b0b9"
      },
      "outputs": [
        {
          "output_type": "stream",
          "name": "stdout",
          "text": [
            "Dataset ml-100k could not be found. Do you want to download it? [Y/n] y\n",
            "Trying to download dataset from https://files.grouplens.org/datasets/movielens/ml-100k.zip...\n",
            "Done! Dataset ml-100k has been saved to /root/.surprise_data/ml-100k\n"
          ]
        },
        {
          "output_type": "execute_result",
          "data": {
            "text/plain": [
              "<surprise.trainset.Trainset at 0x7e7e0d052b40>"
            ]
          },
          "metadata": {},
          "execution_count": 2
        }
      ],
      "source": [
        "# 📥 Load MovieLens 100K dataset from Surprise\n",
        "data = Dataset.load_builtin('ml-100k')\n",
        "trainset, testset = train_test_split(data, test_size=0.2, random_state=42)\n",
        "trainset"
      ]
    },
    {
      "cell_type": "code",
      "execution_count": 3,
      "id": "f8cd56fc",
      "metadata": {
        "colab": {
          "base_uri": "https://localhost:8080/"
        },
        "id": "f8cd56fc",
        "outputId": "ccc90ac5-4ecb-45f6-f646-8405d4cee261"
      },
      "outputs": [
        {
          "output_type": "stream",
          "name": "stdout",
          "text": [
            "Processing epoch 0\n",
            "Processing epoch 1\n",
            "Processing epoch 2\n",
            "Processing epoch 3\n",
            "Processing epoch 4\n",
            "Processing epoch 5\n",
            "Processing epoch 6\n",
            "Processing epoch 7\n",
            "Processing epoch 8\n",
            "Processing epoch 9\n",
            "Processing epoch 10\n",
            "Processing epoch 11\n",
            "Processing epoch 12\n",
            "Processing epoch 13\n",
            "Processing epoch 14\n",
            "Processing epoch 15\n",
            "Processing epoch 16\n",
            "Processing epoch 17\n",
            "Processing epoch 18\n",
            "Processing epoch 19\n"
          ]
        }
      ],
      "source": [
        "# 🧠 Train SVD Model\n",
        "model = SVD(n_factors=50, biased=True, verbose=True)\n",
        "model.fit(trainset)\n",
        "predictions = model.test(testset)"
      ]
    },
    {
      "cell_type": "code",
      "execution_count": 4,
      "id": "f7441e9b",
      "metadata": {
        "colab": {
          "base_uri": "https://localhost:8080/"
        },
        "id": "f7441e9b",
        "outputId": "29143c7f-66d5-4d03-d231-ff83545f00e8"
      },
      "outputs": [
        {
          "output_type": "stream",
          "name": "stdout",
          "text": [
            "RMSE: 0.9338\n",
            "MAE:  0.7360\n"
          ]
        }
      ],
      "source": [
        "# 📈 Evaluate Performance\n",
        "rmse = accuracy.rmse(predictions)\n",
        "mae = accuracy.mae(predictions)"
      ]
    },
    {
      "cell_type": "code",
      "execution_count": 5,
      "id": "33853a1e",
      "metadata": {
        "colab": {
          "base_uri": "https://localhost:8080/"
        },
        "id": "33853a1e",
        "outputId": "1365f8be-e133-4b72-c8ea-35dbf0c1f1f4"
      },
      "outputs": [
        {
          "output_type": "stream",
          "name": "stdout",
          "text": [
            "Top 5 recommendations for User 907: [('813', 5), ('79', 5), ('172', 5), ('647', 5), ('98', 5)]\n"
          ]
        }
      ],
      "source": [
        "# ⭐ Generate Top-N Recommendations for a Sample User\n",
        "from collections import defaultdict\n",
        "\n",
        "def get_top_n(predictions, n=10):\n",
        "    top_n = defaultdict(list)\n",
        "    for uid, iid, true_r, est, _ in predictions:\n",
        "        top_n[uid].append((iid, est))\n",
        "    for uid, user_ratings in top_n.items():\n",
        "        user_ratings.sort(key=lambda x: x[1], reverse=True)\n",
        "        top_n[uid] = user_ratings[:n]\n",
        "    return top_n\n",
        "\n",
        "top_n = get_top_n(predictions, n=5)\n",
        "sample_user = list(top_n.keys())[0]\n",
        "print(f\"Top 5 recommendations for User {sample_user}: {top_n[sample_user]}\")"
      ]
    },
    {
      "cell_type": "code",
      "execution_count": 6,
      "id": "d5cd075f",
      "metadata": {
        "colab": {
          "base_uri": "https://localhost:8080/",
          "height": 489
        },
        "id": "d5cd075f",
        "outputId": "ca30b930-4430-4949-ec6c-2984e4827cc6"
      },
      "outputs": [
        {
          "output_type": "execute_result",
          "data": {
            "text/plain": [
              "[Text(0.5, 1.0, 'RMSE vs Number of Latent Factors')]"
            ]
          },
          "metadata": {},
          "execution_count": 6
        },
        {
          "output_type": "display_data",
          "data": {
            "text/plain": [
              "<Figure size 640x480 with 1 Axes>"
            ],
            "image/png": "[encoded data removed]"
          },
          "metadata": {}
        }
      ],
      "source": [
        "# 📉 Test SVD with different number of latent factors\n",
        "results = []\n",
        "for k in [10, 20, 50, 100]:\n",
        "    model = SVD(n_factors=k)\n",
        "    model.fit(trainset)\n",
        "    predictions = model.test(testset)\n",
        "    rmse = accuracy.rmse(predictions, verbose=False)\n",
        "    results.append((k, rmse))\n",
        "\n",
        "results_df = pd.DataFrame(results, columns=[\"n_factors\", \"RMSE\"])\n",
        "sns.lineplot(x='n_factors', y='RMSE', data=results_df).set(title='RMSE vs Number of Latent Factors')"
      ]
    },
    {
      "cell_type": "code",
      "execution_count": 13,
      "id": "51449a1e",
      "metadata": {
        "id": "51449a1e"
      },
      "outputs": [],
      "source": [
        "def recommend_movies(user_id, ratings_matrix, reconstructed_matrix, movies_df, top_n=5):\n",
        "    # Movies already rated by user\n",
        "    user_rated_movies = ratings_matrix.loc[user_id].dropna().index\n",
        "\n",
        "    # Predicted ratings for this user\n",
        "    user_predictions = reconstructed_matrix.loc[user_id]\n",
        "\n",
        "    # Filter out already rated movies that are also in the predicted ratings\n",
        "    user_rated_movies_in_predictions = user_rated_movies.intersection(user_predictions.index)\n",
        "\n",
        "    # Filter out already rated movies\n",
        "    user_unseen = user_predictions.drop(user_rated_movies_in_predictions)\n",
        "\n",
        "    # Get top N\n",
        "    top_movies = user_unseen.sort_values(ascending=False).head(top_n)\n",
        "\n",
        "    # Map movie IDs to names\n",
        "    recommended = movies_df[movies_df['movieId'].isin(top_movies.index)][['movieId', 'title']]\n",
        "\n",
        "    return recommended"
      ]
    },
    {
      "cell_type": "code",
      "execution_count": 14,
      "id": "76680112",
      "metadata": {
        "colab": {
          "base_uri": "https://localhost:8080/"
        },
        "id": "76680112",
        "outputId": "7ade2a4e-3609-4682-a212-a9da35b89854"
      },
      "outputs": [
        {
          "output_type": "stream",
          "name": "stdout",
          "text": [
            "\n",
            "Top 5 Recommended Movies for User 1:\n",
            "movieId      title\n",
            "   1003 Movie 1003\n",
            "   1005 Movie 1005\n",
            "   1001 Movie 1001\n",
            "   1000 Movie 1000\n",
            "   1004 Movie 1004\n",
            "\n",
            "Top 5 Recommended Movies for User 50:\n",
            "movieId      title\n",
            "      1    Movie 1\n",
            "     10   Movie 10\n",
            "   1003 Movie 1003\n",
            "   1001 Movie 1001\n",
            "   1000 Movie 1000\n"
          ]
        }
      ],
      "source": [
        "# Show recommendations for multiple users\n",
        "for uid in ['1', '50']:   # You can add more user IDs here\n",
        "    recommendations = recommend_movies(uid, user_item_matrix, reconstructed_df, movies, top_n=5)\n",
        "    print(f\"\\nTop 5 Recommended Movies for User {uid}:\")\n",
        "    print(recommendations.to_string(index=False))"
      ]
    },
    {
      "cell_type": "code",
      "metadata": {
        "id": "087b6032"
      },
      "source": [
        "# Load the MovieLens 100K dataset again to create the user-item matrix and movies dataframe\n",
        "# This is necessary because the 'data' object from surprise is not directly a pandas DataFrame\n",
        "data = Dataset.load_builtin('ml-100k')\n",
        "raw_ratings = data.raw_ratings\n",
        "\n",
        "# Convert raw ratings to a pandas DataFrame\n",
        "ratings_df = pd.DataFrame(raw_ratings, columns=['userId', 'movieId', 'rating', 'timestamp'])\n",
        "ratings_df['rating'] = ratings_df['rating'].astype(float)\n",
        "\n",
        "# Create the user-item matrix\n",
        "user_item_matrix = ratings_df.pivot(index='userId', columns='movieId', values='rating')\n",
        "\n",
        "# Create a dummy reconstructed matrix for the example. In a real scenario, this would come from the SVD decomposition.\n",
        "# Since we don't have the SVD components readily available from the `surprise` library's SVD object in this format,\n",
        "# we'll create a placeholder. For a full implementation, you would reconstruct the matrix using U, Sigma, and V from SVD.\n",
        "# Here, we'll use the predictions from the trained model to create a similar structure for demonstration.\n",
        "\n",
        "# Extract predictions and create a DataFrame\n",
        "predictions_df = pd.DataFrame(predictions, columns=['userId', 'movieId', 'true_r', 'est', 'details'])\n",
        "\n",
        "# Pivot to get estimated ratings in a user-item format\n",
        "reconstructed_df = predictions_df.pivot(index='userId', columns='movieId', values='est')\n",
        "\n",
        "# Create a dummy movies DataFrame for the example. In a real scenario, this would be loaded from movie information file.\n",
        "# Since we don't have the movie titles readily available from the Surprise dataset in this format,\n",
        "# we'll create a placeholder. For a full implementation, you would load movie information from 'u.item'.\n",
        "# For now, we'll create a simple DataFrame with movieIds that appear in the predictions.\n",
        "unique_movie_ids = ratings_df['movieId'].unique()\n",
        "movies = pd.DataFrame({'movieId': unique_movie_ids, 'title': [f'Movie {mid}' for mid in unique_movie_ids]})"
      ],
      "id": "087b6032",
      "execution_count": 9,
      "outputs": []
    },
    {
      "cell_type": "code",
      "source": [],
      "metadata": {
        "id": "F-icknXJu-oY"
      },
      "id": "F-icknXJu-oY",
      "execution_count": null,
      "outputs": []
    }
  ],
  "metadata": {
    "colab": {
      "provenance": []
    },
    "language_info": {
      "name": "python"
    },
    "kernelspec": {
      "name": "python3",
      "display_name": "Python 3"
    }
  },
  "nbformat": 4,
  "nbformat_minor": 5
}