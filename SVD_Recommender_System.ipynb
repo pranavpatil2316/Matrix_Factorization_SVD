{
 "cells": [
  {
   "cell_type": "markdown",
   "id": "eba24e7f",
   "metadata": {},
   "source": [
    "# 📊 Matrix Factorization using SVD\n",
    "\n",
    "**Objective**: Build a recommender system using Singular Value Decomposition (SVD) and explore dimensionality reduction for improving performance."
   ]
  },
  {
   "cell_type": "code",
   "execution_count": null,
   "id": "52928c0a",
   "metadata": {},
   "outputs": [],
   "source": [
    "# 📦 Import Required Libraries\n",
    "import pandas as pd\n",
    "import numpy as np\n",
    "from surprise import Dataset, Reader, SVD\n",
    "from surprise.model_selection import cross_validate, train_test_split\n",
    "from surprise import accuracy\n",
    "import matplotlib.pyplot as plt\n",
    "import seaborn as sns"
   ]
  },
  {
   "cell_type": "code",
   "execution_count": null,
   "id": "e4b68f67",
   "metadata": {},
   "outputs": [],
   "source": [
    "# 📥 Load MovieLens 100K dataset from Surprise\n",
    "data = Dataset.load_builtin('ml-100k')\n",
    "trainset, testset = train_test_split(data, test_size=0.2, random_state=42)\n",
    "trainset"
   ]
  },
  {
   "cell_type": "code",
   "execution_count": null,
   "id": "f8cd56fc",
   "metadata": {},
   "outputs": [],
   "source": [
    "# 🧠 Train SVD Model\n",
    "model = SVD(n_factors=50, biased=True, verbose=True)\n",
    "model.fit(trainset)\n",
    "predictions = model.test(testset)"
   ]
  },
  {
   "cell_type": "code",
   "execution_count": null,
   "id": "f7441e9b",
   "metadata": {},
   "outputs": [],
   "source": [
    "# 📈 Evaluate Performance\n",
    "rmse = accuracy.rmse(predictions)\n",
    "mae = accuracy.mae(predictions)"
   ]
  },
  {
   "cell_type": "code",
   "execution_count": null,
   "id": "33853a1e",
   "metadata": {},
   "outputs": [],
   "source": [
    "# ⭐ Generate Top-N Recommendations for a Sample User\n",
    "from collections import defaultdict\n",
    "\n",
    "def get_top_n(predictions, n=10):\n",
    "    top_n = defaultdict(list)\n",
    "    for uid, iid, true_r, est, _ in predictions:\n",
    "        top_n[uid].append((iid, est))\n",
    "    for uid, user_ratings in top_n.items():\n",
    "        user_ratings.sort(key=lambda x: x[1], reverse=True)\n",
    "        top_n[uid] = user_ratings[:n]\n",
    "    return top_n\n",
    "\n",
    "top_n = get_top_n(predictions, n=5)\n",
    "sample_user = list(top_n.keys())[0]\n",
    "print(f\"Top 5 recommendations for User {sample_user}: {top_n[sample_user]}\")"
   ]
  },
  {
   "cell_type": "code",
   "execution_count": null,
   "id": "d5cd075f",
   "metadata": {},
   "outputs": [],
   "source": [
    "# 📉 Test SVD with different number of latent factors\n",
    "results = []\n",
    "for k in [10, 20, 50, 100]:\n",
    "    model = SVD(n_factors=k)\n",
    "    model.fit(trainset)\n",
    "    predictions = model.test(testset)\n",
    "    rmse = accuracy.rmse(predictions, verbose=False)\n",
    "    results.append((k, rmse))\n",
    "\n",
    "results_df = pd.DataFrame(results, columns=[\"n_factors\", \"RMSE\"])\n",
    "sns.lineplot(x='n_factors', y='RMSE', data=results_df).set(title='RMSE vs Number of Latent Factors')"
   ]
  }
 ],
 "metadata": {},
 "nbformat": 4,
 "nbformat_minor": 5
}